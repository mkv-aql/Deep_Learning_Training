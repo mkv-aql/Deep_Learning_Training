{
 "cells": [
  {
   "cell_type": "markdown",
   "id": "cb73e936",
   "metadata": {
    "_cell_guid": "df0b5f05-9d0c-4185-b343-feac3f758558",
    "_uuid": "f99df44c-0ede-4ad2-bbec-9b664bb51bdd",
    "papermill": {
     "duration": 0.00957,
     "end_time": "2023-01-25T15:25:20.376101",
     "exception": false,
     "start_time": "2023-01-25T15:25:20.366531",
     "status": "completed"
    },
    "tags": []
   },
   "source": [
    "**Step_1**"
   ]
  },
  {
   "cell_type": "code",
   "execution_count": 1,
   "id": "a913a128",
   "metadata": {
    "_cell_guid": "d003204b-7d71-4502-80de-8f714a4039d5",
    "_uuid": "53ad464a-a7fe-4d1f-9ce8-80bba524804c",
    "collapsed": false,
    "execution": {
     "iopub.execute_input": "2023-01-25T15:25:20.395707Z",
     "iopub.status.busy": "2023-01-25T15:25:20.394685Z",
     "iopub.status.idle": "2023-01-25T15:25:25.729257Z",
     "shell.execute_reply": "2023-01-25T15:25:25.728040Z"
    },
    "jupyter": {
     "outputs_hidden": false
    },
    "papermill": {
     "duration": 5.346908,
     "end_time": "2023-01-25T15:25:25.731774",
     "exception": false,
     "start_time": "2023-01-25T15:25:20.384866",
     "status": "completed"
    },
    "tags": []
   },
   "outputs": [
    {
     "data": {
      "text/plain": [
       "'2.6.4'"
      ]
     },
     "execution_count": 1,
     "metadata": {},
     "output_type": "execute_result"
    }
   ],
   "source": [
    "import tensorflow as tf\n",
    "tf.__version__"
   ]
  },
  {
   "cell_type": "code",
   "execution_count": 2,
   "id": "858acf11",
   "metadata": {
    "execution": {
     "iopub.execute_input": "2023-01-25T15:25:25.752101Z",
     "iopub.status.busy": "2023-01-25T15:25:25.750605Z",
     "iopub.status.idle": "2023-01-25T15:25:25.756252Z",
     "shell.execute_reply": "2023-01-25T15:25:25.755356Z"
    },
    "papermill": {
     "duration": 0.017883,
     "end_time": "2023-01-25T15:25:25.758562",
     "exception": false,
     "start_time": "2023-01-25T15:25:25.740679",
     "status": "completed"
    },
    "tags": []
   },
   "outputs": [],
   "source": [
    "import matplotlib.pyplot as plt"
   ]
  },
  {
   "cell_type": "markdown",
   "id": "a2329230",
   "metadata": {
    "_cell_guid": "b4fdb51d-4b76-45a5-bd19-eda6220be783",
    "_uuid": "7dae376e-e5f7-4ade-b184-4306e75084db",
    "papermill": {
     "duration": 0.008257,
     "end_time": "2023-01-25T15:25:25.775678",
     "exception": false,
     "start_time": "2023-01-25T15:25:25.767421",
     "status": "completed"
    },
    "tags": []
   },
   "source": [
    "**Importing Datasets**\n",
    "* Data sets used are already existed datasets"
   ]
  },
  {
   "cell_type": "code",
   "execution_count": 3,
   "id": "14e64135",
   "metadata": {
    "_cell_guid": "26b6e165-179f-46b2-91fc-ebd83d44579e",
    "_uuid": "8acec89b-c015-49b0-af8e-2ae82d5706dc",
    "collapsed": false,
    "execution": {
     "iopub.execute_input": "2023-01-25T15:25:25.795451Z",
     "iopub.status.busy": "2023-01-25T15:25:25.794437Z",
     "iopub.status.idle": "2023-01-25T15:25:26.723001Z",
     "shell.execute_reply": "2023-01-25T15:25:26.722070Z"
    },
    "jupyter": {
     "outputs_hidden": false
    },
    "papermill": {
     "duration": 0.940548,
     "end_time": "2023-01-25T15:25:26.725464",
     "exception": false,
     "start_time": "2023-01-25T15:25:25.784916",
     "status": "completed"
    },
    "tags": []
   },
   "outputs": [],
   "source": [
    "mnist = tf.keras.datasets.mnist # 28x28 images of handwritten digits 0-9 (10 classes)"
   ]
  },
  {
   "cell_type": "markdown",
   "id": "5b977dd6",
   "metadata": {
    "papermill": {
     "duration": 0.008178,
     "end_time": "2023-01-25T15:25:26.742501",
     "exception": false,
     "start_time": "2023-01-25T15:25:26.734323",
     "status": "completed"
    },
    "tags": []
   },
   "source": [
    "Unpacking the datasets into X and Y plots of 'training' and 'testing'"
   ]
  },
  {
   "cell_type": "code",
   "execution_count": 4,
   "id": "c8db9d1b",
   "metadata": {
    "execution": {
     "iopub.execute_input": "2023-01-25T15:25:26.761341Z",
     "iopub.status.busy": "2023-01-25T15:25:26.760608Z",
     "iopub.status.idle": "2023-01-25T15:25:28.110728Z",
     "shell.execute_reply": "2023-01-25T15:25:28.109277Z"
    },
    "papermill": {
     "duration": 1.362325,
     "end_time": "2023-01-25T15:25:28.113227",
     "exception": false,
     "start_time": "2023-01-25T15:25:26.750902",
     "status": "completed"
    },
    "tags": []
   },
   "outputs": [
    {
     "name": "stdout",
     "output_type": "stream",
     "text": [
      "Downloading data from https://storage.googleapis.com/tensorflow/tf-keras-datasets/mnist.npz\n",
      "11493376/11490434 [==============================] - 1s 0us/step\n",
      "11501568/11490434 [==============================] - 1s 0us/step\n"
     ]
    }
   ],
   "source": [
    "(x_train, y_train), (x_test, y_test) = mnist.load_data()"
   ]
  },
  {
   "cell_type": "markdown",
   "id": "81565522",
   "metadata": {
    "papermill": {
     "duration": 0.009587,
     "end_time": "2023-01-25T15:25:28.133049",
     "exception": false,
     "start_time": "2023-01-25T15:25:28.123462",
     "status": "completed"
    },
    "tags": []
   },
   "source": [
    "Showing the actual images in the [0] array. #Skippable step"
   ]
  },
  {
   "cell_type": "code",
   "execution_count": 5,
   "id": "a14c6291",
   "metadata": {
    "execution": {
     "iopub.execute_input": "2023-01-25T15:25:28.154067Z",
     "iopub.status.busy": "2023-01-25T15:25:28.153674Z",
     "iopub.status.idle": "2023-01-25T15:25:28.313618Z",
     "shell.execute_reply": "2023-01-25T15:25:28.312572Z"
    },
    "papermill": {
     "duration": 0.172874,
     "end_time": "2023-01-25T15:25:28.315710",
     "exception": false,
     "start_time": "2023-01-25T15:25:28.142836",
     "status": "completed"
    },
    "tags": []
   },
   "outputs": [
    {
     "data": {
      "text/plain": [
       "<matplotlib.image.AxesImage at 0x7f6d752d0110>"
      ]
     },
     "execution_count": 5,
     "metadata": {},
     "output_type": "execute_result"
    },
    {
     "data": {
      "image/png": "[encoded data removed]",
      "text/plain": [
       "<Figure size 432x288 with 1 Axes>"
      ]
     },
     "metadata": {
      "needs_background": "light"
     },
     "output_type": "display_data"
    }
   ],
   "source": [
    "plt.imshow(x_train[0])"
   ]
  },
  {
   "cell_type": "markdown",
   "id": "ac5557e7",
   "metadata": {
    "papermill": {
     "duration": 0.009816,
     "end_time": "2023-01-25T15:25:28.335799",
     "exception": false,
     "start_time": "2023-01-25T15:25:28.325983",
     "status": "completed"
    },
    "tags": []
   },
   "source": [
    "prints a binary of black and white image. #Skippable step"
   ]
  },
  {
   "cell_type": "code",
   "execution_count": 6,
   "id": "72018e83",
   "metadata": {
    "execution": {
     "iopub.execute_input": "2023-01-25T15:25:28.358106Z",
     "iopub.status.busy": "2023-01-25T15:25:28.357772Z",
     "iopub.status.idle": "2023-01-25T15:25:28.478478Z",
     "shell.execute_reply": "2023-01-25T15:25:28.477694Z"
    },
    "papermill": {
     "duration": 0.134761,
     "end_time": "2023-01-25T15:25:28.480441",
     "exception": false,
     "start_time": "2023-01-25T15:25:28.345680",
     "status": "completed"
    },
    "tags": []
   },
   "outputs": [
    {
     "data": {
      "text/plain": [
       "<matplotlib.image.AxesImage at 0x7f6d6fb37c50>"
      ]
     },
     "execution_count": 6,
     "metadata": {},
     "output_type": "execute_result"
    },
    {
     "data": {
      "image/png": "[encoded data removed]",
      "text/plain": [
       "<Figure size 432x288 with 1 Axes>"
      ]
     },
     "metadata": {
      "needs_background": "light"
     },
     "output_type": "display_data"
    }
   ],
   "source": [
    "plt.imshow(x_train[0], cmap = plt.cm.binary) "
   ]
  },
  {
   "cell_type": "markdown",
   "id": "484fdf2d",
   "metadata": {
    "papermill": {
     "duration": 0.010595,
     "end_time": "2023-01-25T15:25:28.504319",
     "exception": false,
     "start_time": "2023-01-25T15:25:28.493724",
     "status": "completed"
    },
    "tags": []
   },
   "source": [
    "showing the multidimensional array of the image. #Skippable step"
   ]
  },
  {
   "cell_type": "code",
   "execution_count": 7,
   "id": "92f461ad",
   "metadata": {
    "execution": {
     "iopub.execute_input": "2023-01-25T15:25:28.526498Z",
     "iopub.status.busy": "2023-01-25T15:25:28.525630Z",
     "iopub.status.idle": "2023-01-25T15:25:28.532121Z",
     "shell.execute_reply": "2023-01-25T15:25:28.531255Z"
    },
    "papermill": {
     "duration": 0.020051,
     "end_time": "2023-01-25T15:25:28.534370",
     "exception": false,
     "start_time": "2023-01-25T15:25:28.514319",
     "status": "completed"
    },
    "tags": []
   },
   "outputs": [
    {
     "name": "stdout",
     "output_type": "stream",
     "text": [
      "[[  0   0   0   0   0   0   0   0   0   0   0   0   0   0   0   0   0   0\n",
      "    0   0   0   0   0   0   0   0   0   0]\n",
      " [  0   0   0   0   0   0   0   0   0   0   0   0   0   0   0   0   0   0\n",
      "    0   0   0   0   0   0   0   0   0   0]\n",
      " [  0   0   0   0   0   0   0   0   0   0   0   0   0   0   0   0   0   0\n",
      "    0   0   0   0   0   0   0   0   0   0]\n",
      " [  0   0   0   0   0   0   0   0   0   0   0   0   0   0   0   0   0   0\n",
      "    0   0   0   0   0   0   0   0   0   0]\n",
      " [  0   0   0   0   0   0   0   0   0   0   0   0   0   0   0   0   0   0\n",
      "    0   0   0   0   0   0   0   0   0   0]\n",
      " [  0   0   0   0   0   0   0   0   0   0   0   0   3  18  18  18 126 136\n",
      "  175  26 166 255 247 127   0   0   0   0]\n",
      " [  0   0   0   0   0   0   0   0  30  36  94 154 170 253 253 253 253 253\n",
      "  225 172 253 242 195  64   0   0   0   0]\n",
      " [  0   0   0   0   0   0   0  49 238 253 253 253 253 253 253 253 253 251\n",
      "   93  82  82  56  39   0   0   0   0   0]\n",
      " [  0   0   0   0   0   0   0  18 219 253 253 253 253 253 198 182 247 241\n",
      "    0   0   0   0   0   0   0   0   0   0]\n",
      " [  0   0   0   0   0   0   0   0  80 156 107 253 253 205  11   0  43 154\n",
      "    0   0   0   0   0   0   0   0   0   0]\n",
      " [  0   0   0   0   0   0   0   0   0  14   1 154 253  90   0   0   0   0\n",
      "    0   0   0   0   0   0   0   0   0   0]\n",
      " [  0   0   0   0   0   0   0   0   0   0   0 139 253 190   2   0   0   0\n",
      "    0   0   0   0   0   0   0   0   0   0]\n",
      " [  0   0   0   0   0   0   0   0   0   0   0  11 190 253  70   0   0   0\n",
      "    0   0   0   0   0   0   0   0   0   0]\n",
      " [  0   0   0   0   0   0   0   0   0   0   0   0  35 241 225 160 108   1\n",
      "    0   0   0   0   0   0   0   0   0   0]\n",
      " [  0   0   0   0   0   0   0   0   0   0   0   0   0  81 240 253 253 119\n",
      "   25   0   0   0   0   0   0   0   0   0]\n",
      " [  0   0   0   0   0   0   0   0   0   0   0   0   0   0  45 186 253 253\n",
      "  150  27   0   0   0   0   0   0   0   0]\n",
      " [  0   0   0   0   0   0   0   0   0   0   0   0   0   0   0  16  93 252\n",
      "  253 187   0   0   0   0   0   0   0   0]\n",
      " [  0   0   0   0   0   0   0   0   0   0   0   0   0   0   0   0   0 249\n",
      "  253 249  64   0   0   0   0   0   0   0]\n",
      " [  0   0   0   0   0   0   0   0   0   0   0   0   0   0  46 130 183 253\n",
      "  253 207   2   0   0   0   0   0   0   0]\n",
      " [  0   0   0   0   0   0   0   0   0   0   0   0  39 148 229 253 253 253\n",
      "  250 182   0   0   0   0   0   0   0   0]\n",
      " [  0   0   0   0   0   0   0   0   0   0  24 114 221 253 253 253 253 201\n",
      "   78   0   0   0   0   0   0   0   0   0]\n",
      " [  0   0   0   0   0   0   0   0  23  66 213 253 253 253 253 198  81   2\n",
      "    0   0   0   0   0   0   0   0   0   0]\n",
      " [  0   0   0   0   0   0  18 171 219 253 253 253 253 195  80   9   0   0\n",
      "    0   0   0   0   0   0   0   0   0   0]\n",
      " [  0   0   0   0  55 172 226 253 253 253 253 244 133  11   0   0   0   0\n",
      "    0   0   0   0   0   0   0   0   0   0]\n",
      " [  0   0   0   0 136 253 253 253 212 135 132  16   0   0   0   0   0   0\n",
      "    0   0   0   0   0   0   0   0   0   0]\n",
      " [  0   0   0   0   0   0   0   0   0   0   0   0   0   0   0   0   0   0\n",
      "    0   0   0   0   0   0   0   0   0   0]\n",
      " [  0   0   0   0   0   0   0   0   0   0   0   0   0   0   0   0   0   0\n",
      "    0   0   0   0   0   0   0   0   0   0]\n",
      " [  0   0   0   0   0   0   0   0   0   0   0   0   0   0   0   0   0   0\n",
      "    0   0   0   0   0   0   0   0   0   0]]\n"
     ]
    }
   ],
   "source": [
    "print(x_train[0])"
   ]
  },
  {
   "cell_type": "markdown",
   "id": "b2a6c449",
   "metadata": {
    "papermill": {
     "duration": 0.010346,
     "end_time": "2023-01-25T15:25:28.555946",
     "exception": false,
     "start_time": "2023-01-25T15:25:28.545600",
     "status": "completed"
    },
    "tags": []
   },
   "source": [
    "**Normalization**\n",
    "* scaling the data"
   ]
  },
  {
   "cell_type": "code",
   "execution_count": 8,
   "id": "5f23e992",
   "metadata": {
    "execution": {
     "iopub.execute_input": "2023-01-25T15:25:28.578679Z",
     "iopub.status.busy": "2023-01-25T15:25:28.578277Z",
     "iopub.status.idle": "2023-01-25T15:25:28.917300Z",
     "shell.execute_reply": "2023-01-25T15:25:28.916227Z"
    },
    "papermill": {
     "duration": 0.353318,
     "end_time": "2023-01-25T15:25:28.919716",
     "exception": false,
     "start_time": "2023-01-25T15:25:28.566398",
     "status": "completed"
    },
    "tags": []
   },
   "outputs": [],
   "source": [
    "x_train = tf.keras.utils.normalize(x_train, axis = 1)\n",
    "x_test = tf.keras.utils.normalize(x_test, axis = 1)"
   ]
  },
  {
   "cell_type": "markdown",
   "id": "442d83af",
   "metadata": {
    "papermill": {
     "duration": 0.010352,
     "end_time": "2023-01-25T15:25:28.940785",
     "exception": false,
     "start_time": "2023-01-25T15:25:28.930433",
     "status": "completed"
    },
    "tags": []
   },
   "source": [
    "See the result of the scaling. #Skippable step"
   ]
  },
  {
   "cell_type": "code",
   "execution_count": 9,
   "id": "618dddf5",
   "metadata": {
    "execution": {
     "iopub.execute_input": "2023-01-25T15:25:28.963820Z",
     "iopub.status.busy": "2023-01-25T15:25:28.962821Z",
     "iopub.status.idle": "2023-01-25T15:25:29.086497Z",
     "shell.execute_reply": "2023-01-25T15:25:29.085795Z"
    },
    "papermill": {
     "duration": 0.137205,
     "end_time": "2023-01-25T15:25:29.088421",
     "exception": false,
     "start_time": "2023-01-25T15:25:28.951216",
     "status": "completed"
    },
    "tags": []
   },
   "outputs": [
    {
     "data": {
      "text/plain": [
       "<matplotlib.image.AxesImage at 0x7f6d74f97d50>"
      ]
     },
     "execution_count": 9,
     "metadata": {},
     "output_type": "execute_result"
    },
    {
     "data": {
      "image/png": "[encoded data removed]",
      "text/plain": [
       "<Figure size 432x288 with 1 Axes>"
      ]
     },
     "metadata": {
      "needs_background": "light"
     },
     "output_type": "display_data"
    }
   ],
   "source": [
    "plt.imshow(x_train[0])"
   ]
  },
  {
   "cell_type": "code",
   "execution_count": 10,
   "id": "88ee1b92",
   "metadata": {
    "execution": {
     "iopub.execute_input": "2023-01-25T15:25:29.114718Z",
     "iopub.status.busy": "2023-01-25T15:25:29.114132Z",
     "iopub.status.idle": "2023-01-25T15:25:29.396940Z",
     "shell.execute_reply": "2023-01-25T15:25:29.396215Z"
    },
    "papermill": {
     "duration": 0.296914,
     "end_time": "2023-01-25T15:25:29.398992",
     "exception": false,
     "start_time": "2023-01-25T15:25:29.102078",
     "status": "completed"
    },
    "tags": []
   },
   "outputs": [
    {
     "data": {
      "text/plain": [
       "<matplotlib.image.AxesImage at 0x7f6d6fb0eb10>"
      ]
     },
     "execution_count": 10,
     "metadata": {},
     "output_type": "execute_result"
    },
    {
     "data": {
      "image/png": "[encoded data removed]",
      "text/plain": [
       "<Figure size 432x288 with 1 Axes>"
      ]
     },
     "metadata": {
      "needs_background": "light"
     },
     "output_type": "display_data"
    }
   ],
   "source": [
    "plt.imshow(x_train[0], cmap = plt.cm.binary) "
   ]
  },
  {
   "cell_type": "markdown",
   "id": "969ab280",
   "metadata": {
    "papermill": {
     "duration": 0.011123,
     "end_time": "2023-01-25T15:25:29.424098",
     "exception": false,
     "start_time": "2023-01-25T15:25:29.412975",
     "status": "completed"
    },
    "tags": []
   },
   "source": [
    "See the result of the scaling. \n",
    "the values are scalled down to 0-1 limit (instead of 0-255) #Skippable step"
   ]
  },
  {
   "cell_type": "code",
   "execution_count": 11,
   "id": "f33d685f",
   "metadata": {
    "execution": {
     "iopub.execute_input": "2023-01-25T15:25:29.447810Z",
     "iopub.status.busy": "2023-01-25T15:25:29.446852Z",
     "iopub.status.idle": "2023-01-25T15:25:29.457950Z",
     "shell.execute_reply": "2023-01-25T15:25:29.456396Z"
    },
    "papermill": {
     "duration": 0.026029,
     "end_time": "2023-01-25T15:25:29.460732",
     "exception": false,
     "start_time": "2023-01-25T15:25:29.434703",
     "status": "completed"
    },
    "tags": []
   },
   "outputs": [
    {
     "name": "stdout",
     "output_type": "stream",
     "text": [
      "[[0.         0.         0.         0.         0.         0.\n",
      "  0.         0.         0.         0.         0.         0.\n",
      "  0.         0.         0.         0.         0.         0.\n",
      "  0.         0.         0.         0.         0.         0.\n",
      "  0.         0.         0.         0.        ]\n",
      " [0.         0.         0.         0.         0.         0.\n",
      "  0.         0.         0.         0.         0.         0.\n",
      "  0.         0.         0.         0.         0.         0.\n",
      "  0.         0.         0.         0.         0.         0.\n",
      "  0.         0.         0.         0.        ]\n",
      " [0.         0.         0.         0.         0.         0.\n",
      "  0.         0.         0.         0.         0.         0.\n",
      "  0.         0.         0.         0.         0.         0.\n",
      "  0.         0.         0.         0.         0.         0.\n",
      "  0.         0.         0.         0.        ]\n",
      " [0.         0.         0.         0.         0.         0.\n",
      "  0.         0.         0.         0.         0.         0.\n",
      "  0.         0.         0.         0.         0.         0.\n",
      "  0.         0.         0.         0.         0.         0.\n",
      "  0.         0.         0.         0.        ]\n",
      " [0.         0.         0.         0.         0.         0.\n",
      "  0.         0.         0.         0.         0.         0.\n",
      "  0.         0.         0.         0.         0.         0.\n",
      "  0.         0.         0.         0.         0.         0.\n",
      "  0.         0.         0.         0.        ]\n",
      " [0.         0.         0.         0.         0.         0.\n",
      "  0.         0.         0.         0.         0.         0.\n",
      "  0.00393124 0.02332955 0.02620568 0.02625207 0.17420356 0.17566281\n",
      "  0.28629534 0.05664824 0.51877786 0.71632322 0.77892406 0.89301644\n",
      "  0.         0.         0.         0.        ]\n",
      " [0.         0.         0.         0.         0.         0.\n",
      "  0.         0.         0.05780486 0.06524513 0.16128198 0.22713296\n",
      "  0.22277047 0.32790981 0.36833534 0.3689874  0.34978968 0.32678448\n",
      "  0.368094   0.3747499  0.79066747 0.67980478 0.61494005 0.45002403\n",
      "  0.         0.         0.         0.        ]\n",
      " [0.         0.         0.         0.         0.         0.\n",
      "  0.         0.12250613 0.45858525 0.45852825 0.43408872 0.37314701\n",
      "  0.33153488 0.32790981 0.36833534 0.3689874  0.34978968 0.32420121\n",
      "  0.15214552 0.17865984 0.25626376 0.1573102  0.12298801 0.\n",
      "  0.         0.         0.         0.        ]\n",
      " [0.         0.         0.         0.         0.         0.\n",
      "  0.         0.04500225 0.4219755  0.45852825 0.43408872 0.37314701\n",
      "  0.33153488 0.32790981 0.28826244 0.26543758 0.34149427 0.31128482\n",
      "  0.         0.         0.         0.         0.         0.\n",
      "  0.         0.         0.         0.        ]\n",
      " [0.         0.         0.         0.         0.         0.\n",
      "  0.         0.         0.1541463  0.28272888 0.18358693 0.37314701\n",
      "  0.33153488 0.26569767 0.01601458 0.         0.05945042 0.19891229\n",
      "  0.         0.         0.         0.         0.         0.\n",
      "  0.         0.         0.         0.        ]\n",
      " [0.         0.         0.         0.         0.         0.\n",
      "  0.         0.         0.         0.0253731  0.00171577 0.22713296\n",
      "  0.33153488 0.11664776 0.         0.         0.         0.\n",
      "  0.         0.         0.         0.         0.         0.\n",
      "  0.         0.         0.         0.        ]\n",
      " [0.         0.         0.         0.         0.         0.\n",
      "  0.         0.         0.         0.         0.         0.20500962\n",
      "  0.33153488 0.24625638 0.00291174 0.         0.         0.\n",
      "  0.         0.         0.         0.         0.         0.\n",
      "  0.         0.         0.         0.        ]\n",
      " [0.         0.         0.         0.         0.         0.\n",
      "  0.         0.         0.         0.         0.         0.01622378\n",
      "  0.24897876 0.32790981 0.10191096 0.         0.         0.\n",
      "  0.         0.         0.         0.         0.         0.\n",
      "  0.         0.         0.         0.        ]\n",
      " [0.         0.         0.         0.         0.         0.\n",
      "  0.         0.         0.         0.         0.         0.\n",
      "  0.04586451 0.31235677 0.32757096 0.23335172 0.14931733 0.00129164\n",
      "  0.         0.         0.         0.         0.         0.\n",
      "  0.         0.         0.         0.        ]\n",
      " [0.         0.         0.         0.         0.         0.\n",
      "  0.         0.         0.         0.         0.         0.\n",
      "  0.         0.10498298 0.34940902 0.3689874  0.34978968 0.15370495\n",
      "  0.04089933 0.         0.         0.         0.         0.\n",
      "  0.         0.         0.         0.        ]\n",
      " [0.         0.         0.         0.         0.         0.\n",
      "  0.         0.         0.         0.         0.         0.\n",
      "  0.         0.         0.06551419 0.27127137 0.34978968 0.32678448\n",
      "  0.245396   0.05882702 0.         0.         0.         0.\n",
      "  0.         0.         0.         0.        ]\n",
      " [0.         0.         0.         0.         0.         0.\n",
      "  0.         0.         0.         0.         0.         0.\n",
      "  0.         0.         0.         0.02333517 0.12857881 0.32549285\n",
      "  0.41390126 0.40743158 0.         0.         0.         0.\n",
      "  0.         0.         0.         0.        ]\n",
      " [0.         0.         0.         0.         0.         0.\n",
      "  0.         0.         0.         0.         0.         0.\n",
      "  0.         0.         0.         0.         0.         0.32161793\n",
      "  0.41390126 0.54251585 0.20001074 0.         0.         0.\n",
      "  0.         0.         0.         0.        ]\n",
      " [0.         0.         0.         0.         0.         0.\n",
      "  0.         0.         0.         0.         0.         0.\n",
      "  0.         0.         0.06697006 0.18959827 0.25300993 0.32678448\n",
      "  0.41390126 0.45100715 0.00625034 0.         0.         0.\n",
      "  0.         0.         0.         0.        ]\n",
      " [0.         0.         0.         0.         0.         0.\n",
      "  0.         0.         0.         0.         0.         0.\n",
      "  0.05110617 0.19182076 0.33339444 0.3689874  0.34978968 0.32678448\n",
      "  0.40899334 0.39653769 0.         0.         0.         0.\n",
      "  0.         0.         0.         0.        ]\n",
      " [0.         0.         0.         0.         0.         0.\n",
      "  0.         0.         0.         0.         0.04117838 0.16813739\n",
      "  0.28960162 0.32790981 0.36833534 0.3689874  0.34978968 0.25961929\n",
      "  0.12760592 0.         0.         0.         0.         0.\n",
      "  0.         0.         0.         0.        ]\n",
      " [0.         0.         0.         0.         0.         0.\n",
      "  0.         0.         0.04431706 0.11961607 0.36545809 0.37314701\n",
      "  0.33153488 0.32790981 0.36833534 0.28877275 0.111988   0.00258328\n",
      "  0.         0.         0.         0.         0.         0.\n",
      "  0.         0.         0.         0.        ]\n",
      " [0.         0.         0.         0.         0.         0.\n",
      "  0.05298497 0.42752138 0.4219755  0.45852825 0.43408872 0.37314701\n",
      "  0.33153488 0.25273681 0.11646967 0.01312603 0.         0.\n",
      "  0.         0.         0.         0.         0.         0.\n",
      "  0.         0.         0.         0.        ]\n",
      " [0.         0.         0.         0.         0.37491383 0.56222061\n",
      "  0.66525569 0.63253163 0.48748768 0.45852825 0.43408872 0.359873\n",
      "  0.17428513 0.01425695 0.         0.         0.         0.\n",
      "  0.         0.         0.         0.         0.         0.\n",
      "  0.         0.         0.         0.        ]\n",
      " [0.         0.         0.         0.         0.92705966 0.82698729\n",
      "  0.74473314 0.63253163 0.4084877  0.24466922 0.22648107 0.02359823\n",
      "  0.         0.         0.         0.         0.         0.\n",
      "  0.         0.         0.         0.         0.         0.\n",
      "  0.         0.         0.         0.        ]\n",
      " [0.         0.         0.         0.         0.         0.\n",
      "  0.         0.         0.         0.         0.         0.\n",
      "  0.         0.         0.         0.         0.         0.\n",
      "  0.         0.         0.         0.         0.         0.\n",
      "  0.         0.         0.         0.        ]\n",
      " [0.         0.         0.         0.         0.         0.\n",
      "  0.         0.         0.         0.         0.         0.\n",
      "  0.         0.         0.         0.         0.         0.\n",
      "  0.         0.         0.         0.         0.         0.\n",
      "  0.         0.         0.         0.        ]\n",
      " [0.         0.         0.         0.         0.         0.\n",
      "  0.         0.         0.         0.         0.         0.\n",
      "  0.         0.         0.         0.         0.         0.\n",
      "  0.         0.         0.         0.         0.         0.\n",
      "  0.         0.         0.         0.        ]]\n"
     ]
    }
   ],
   "source": [
    "print(x_train[0])"
   ]
  },
  {
   "cell_type": "markdown",
   "id": "94a4840f",
   "metadata": {
    "papermill": {
     "duration": 0.010938,
     "end_time": "2023-01-25T15:25:29.483171",
     "exception": false,
     "start_time": "2023-01-25T15:25:29.472233",
     "status": "completed"
    },
    "tags": []
   },
   "source": [
    "**Building the Model**\n",
    "* There are 2 types of models: sequential and functional model\n",
    "* 'Sequential model' will be used (most common model)"
   ]
  },
  {
   "cell_type": "code",
   "execution_count": 12,
   "id": "c4c31e93",
   "metadata": {
    "execution": {
     "iopub.execute_input": "2023-01-25T15:25:29.507800Z",
     "iopub.status.busy": "2023-01-25T15:25:29.506611Z",
     "iopub.status.idle": "2023-01-25T15:25:29.562152Z",
     "shell.execute_reply": "2023-01-25T15:25:29.561402Z"
    },
    "papermill": {
     "duration": 0.070368,
     "end_time": "2023-01-25T15:25:29.564636",
     "exception": false,
     "start_time": "2023-01-25T15:25:29.494268",
     "status": "completed"
    },
    "tags": []
   },
   "outputs": [
    {
     "name": "stderr",
     "output_type": "stream",
     "text": [
      "2023-01-25 15:25:29.539909: I tensorflow/core/common_runtime/process_util.cc:146] Creating new thread pool with default inter op setting: 2. Tune using inter_op_parallelism_threads for best performance.\n"
     ]
    }
   ],
   "source": [
    "model = tf.keras.models.Sequential()"
   ]
  },
  {
   "cell_type": "markdown",
   "id": "d7c23a16",
   "metadata": {
    "papermill": {
     "duration": 0.010743,
     "end_time": "2023-01-25T15:25:29.587542",
     "exception": false,
     "start_time": "2023-01-25T15:25:29.576799",
     "status": "completed"
    },
    "tags": []
   },
   "source": [
    "adding the first layer (input layer).\n",
    "* since the image is 28x28 (multidimensional array), we would want the dimensions to be flat. \n",
    "* **If doing convolution net, then do not flatten the dimensions**"
   ]
  },
  {
   "cell_type": "code",
   "execution_count": 13,
   "id": "aed9cb0f",
   "metadata": {
    "execution": {
     "iopub.execute_input": "2023-01-25T15:25:29.611116Z",
     "iopub.status.busy": "2023-01-25T15:25:29.610540Z",
     "iopub.status.idle": "2023-01-25T15:25:29.616203Z",
     "shell.execute_reply": "2023-01-25T15:25:29.615594Z"
    },
    "papermill": {
     "duration": 0.019422,
     "end_time": "2023-01-25T15:25:29.617750",
     "exception": false,
     "start_time": "2023-01-25T15:25:29.598328",
     "status": "completed"
    },
    "tags": []
   },
   "outputs": [],
   "source": [
    "model.add(tf.keras.layers.Flatten())"
   ]
  },
  {
   "cell_type": "markdown",
   "id": "104023a5",
   "metadata": {
    "papermill": {
     "duration": 0.010587,
     "end_time": "2023-01-25T15:25:29.639571",
     "exception": false,
     "start_time": "2023-01-25T15:25:29.628984",
     "status": "completed"
    },
    "tags": []
   },
   "source": [
    "Adding the next layer (hidden layers)\n",
    "* In this case, **2** hidden layers are used.\n",
    "* With 128 unit of neurons in the layer.\n",
    "* Passing the **activation function** or step function (what will be the \"threshold\" in order for the weights to be summed up and outputted out to the next or end layer). \n",
    "* By using **\"Rectified Linear Unit\" (ReLU)** as an activation function. (Default/common goto function)"
   ]
  },
  {
   "cell_type": "code",
   "execution_count": 14,
   "id": "b62f2af9",
   "metadata": {
    "execution": {
     "iopub.execute_input": "2023-01-25T15:25:29.663202Z",
     "iopub.status.busy": "2023-01-25T15:25:29.662579Z",
     "iopub.status.idle": "2023-01-25T15:25:29.671561Z",
     "shell.execute_reply": "2023-01-25T15:25:29.670686Z"
    },
    "papermill": {
     "duration": 0.023058,
     "end_time": "2023-01-25T15:25:29.673430",
     "exception": false,
     "start_time": "2023-01-25T15:25:29.650372",
     "status": "completed"
    },
    "tags": []
   },
   "outputs": [],
   "source": [
    "model.add(tf.keras.layers.Dense(128, activation = tf.nn.relu))"
   ]
  },
  {
   "cell_type": "markdown",
   "id": "f8b4a608",
   "metadata": {
    "papermill": {
     "duration": 0.010868,
     "end_time": "2023-01-25T15:25:29.695811",
     "exception": false,
     "start_time": "2023-01-25T15:25:29.684943",
     "status": "completed"
    },
    "tags": []
   },
   "source": [
    "2nd hidden layer"
   ]
  },
  {
   "cell_type": "code",
   "execution_count": 15,
   "id": "f61667c4",
   "metadata": {
    "execution": {
     "iopub.execute_input": "2023-01-25T15:25:29.720341Z",
     "iopub.status.busy": "2023-01-25T15:25:29.719690Z",
     "iopub.status.idle": "2023-01-25T15:25:29.726355Z",
     "shell.execute_reply": "2023-01-25T15:25:29.725116Z"
    },
    "papermill": {
     "duration": 0.021204,
     "end_time": "2023-01-25T15:25:29.728401",
     "exception": false,
     "start_time": "2023-01-25T15:25:29.707197",
     "status": "completed"
    },
    "tags": []
   },
   "outputs": [],
   "source": [
    "model.add(tf.keras.layers.Dense(128, activation = tf.nn.relu))"
   ]
  },
  {
   "cell_type": "markdown",
   "id": "17eaab60",
   "metadata": {
    "papermill": {
     "duration": 0.010869,
     "end_time": "2023-01-25T15:25:29.750652",
     "exception": false,
     "start_time": "2023-01-25T15:25:29.739783",
     "status": "completed"
    },
    "tags": []
   },
   "source": [
    "Adding the final layer (output layer)\n",
    "* Since we are looking for 10 distinct classes (0-9), the output will have 10 unit of neurons\n",
    "* Using **\"softmax\" for the activation function** as a probability distribution"
   ]
  },
  {
   "cell_type": "code",
   "execution_count": 16,
   "id": "88dd835c",
   "metadata": {
    "execution": {
     "iopub.execute_input": "2023-01-25T15:25:29.774691Z",
     "iopub.status.busy": "2023-01-25T15:25:29.774336Z",
     "iopub.status.idle": "2023-01-25T15:25:29.780028Z",
     "shell.execute_reply": "2023-01-25T15:25:29.779013Z"
    },
    "papermill": {
     "duration": 0.020702,
     "end_time": "2023-01-25T15:25:29.782666",
     "exception": false,
     "start_time": "2023-01-25T15:25:29.761964",
     "status": "completed"
    },
    "tags": []
   },
   "outputs": [],
   "source": [
    "model.add(tf.keras.layers.Dense(10, activation = tf.nn.softmax))"
   ]
  },
  {
   "cell_type": "markdown",
   "id": "bc840b26",
   "metadata": {
    "papermill": {
     "duration": 0.011027,
     "end_time": "2023-01-25T15:25:29.805105",
     "exception": false,
     "start_time": "2023-01-25T15:25:29.794078",
     "status": "completed"
    },
    "tags": []
   },
   "source": [
    "**Defining parameters for the training model**"
   ]
  },
  {
   "cell_type": "markdown",
   "id": "90228f46",
   "metadata": {
    "papermill": {
     "duration": 0.010818,
     "end_time": "2023-01-25T15:25:29.827109",
     "exception": false,
     "start_time": "2023-01-25T15:25:29.816291",
     "status": "completed"
    },
    "tags": []
   },
   "source": [
    "Compiling the model\n",
    "* Optimizer used **'adam'** (handling the complex part of neural network, it is a stochastic gradient descent method, common)\n",
    "* loss calculation (the accuracy of the model), **'sparse_categorical_crossentropy'** is the common one. \n",
    "* The metrics that is/are being tracked are **'accuracy'** of the model\n"
   ]
  },
  {
   "cell_type": "code",
   "execution_count": 17,
   "id": "9957b598",
   "metadata": {
    "execution": {
     "iopub.execute_input": "2023-01-25T15:25:29.851783Z",
     "iopub.status.busy": "2023-01-25T15:25:29.851442Z",
     "iopub.status.idle": "2023-01-25T15:25:29.872095Z",
     "shell.execute_reply": "2023-01-25T15:25:29.870955Z"
    },
    "papermill": {
     "duration": 0.035974,
     "end_time": "2023-01-25T15:25:29.874365",
     "exception": false,
     "start_time": "2023-01-25T15:25:29.838391",
     "status": "completed"
    },
    "tags": []
   },
   "outputs": [],
   "source": [
    "model.compile(optimizer = 'adam',\n",
    "             loss = 'sparse_categorical_crossentropy',\n",
    "             metrics = ['accuracy'])"
   ]
  },
  {
   "cell_type": "markdown",
   "id": "c746b389",
   "metadata": {
    "papermill": {
     "duration": 0.011531,
     "end_time": "2023-01-25T15:25:29.897397",
     "exception": false,
     "start_time": "2023-01-25T15:25:29.885866",
     "status": "completed"
    },
    "tags": []
   },
   "source": [
    "**Training the model**\n",
    "* passing the x_train and y_train, with epoch of 10 (epoch = number of training iteration)"
   ]
  },
  {
   "cell_type": "code",
   "execution_count": 18,
   "id": "70337398",
   "metadata": {
    "execution": {
     "iopub.execute_input": "2023-01-25T15:25:29.922028Z",
     "iopub.status.busy": "2023-01-25T15:25:29.920912Z",
     "iopub.status.idle": "2023-01-25T15:26:11.436613Z",
     "shell.execute_reply": "2023-01-25T15:26:11.436002Z"
    },
    "papermill": {
     "duration": 41.529702,
     "end_time": "2023-01-25T15:26:11.438398",
     "exception": false,
     "start_time": "2023-01-25T15:25:29.908696",
     "status": "completed"
    },
    "tags": []
   },
   "outputs": [
    {
     "name": "stderr",
     "output_type": "stream",
     "text": [
      "2023-01-25 15:25:30.117252: I tensorflow/compiler/mlir/mlir_graph_optimization_pass.cc:185] None of the MLIR Optimization Passes are enabled (registered 2)\n"
     ]
    },
    {
     "name": "stdout",
     "output_type": "stream",
     "text": [
      "Epoch 1/10\n",
      "1875/1875 [==============================] - 5s 2ms/step - loss: 0.2624 - accuracy: 0.9224\n",
      "Epoch 2/10\n",
      "1875/1875 [==============================] - 4s 2ms/step - loss: 0.1093 - accuracy: 0.9653\n",
      "Epoch 3/10\n",
      "1875/1875 [==============================] - 4s 2ms/step - loss: 0.0736 - accuracy: 0.9765\n",
      "Epoch 4/10\n",
      "1875/1875 [==============================] - 4s 2ms/step - loss: 0.0523 - accuracy: 0.9829\n",
      "Epoch 5/10\n",
      "1875/1875 [==============================] - 4s 2ms/step - loss: 0.0410 - accuracy: 0.9863\n",
      "Epoch 6/10\n",
      "1875/1875 [==============================] - 4s 2ms/step - loss: 0.0325 - accuracy: 0.9898\n",
      "Epoch 7/10\n",
      "1875/1875 [==============================] - 4s 2ms/step - loss: 0.0264 - accuracy: 0.9912\n",
      "Epoch 8/10\n",
      "1875/1875 [==============================] - 4s 2ms/step - loss: 0.0194 - accuracy: 0.9940\n",
      "Epoch 9/10\n",
      "1875/1875 [==============================] - 4s 2ms/step - loss: 0.0189 - accuracy: 0.9937\n",
      "Epoch 10/10\n",
      "1875/1875 [==============================] - 4s 2ms/step - loss: 0.0158 - accuracy: 0.9947\n"
     ]
    },
    {
     "data": {
      "text/plain": [
       "<keras.callbacks.History at 0x7f6d74d84f50>"
      ]
     },
     "execution_count": 18,
     "metadata": {},
     "output_type": "execute_result"
    }
   ],
   "source": [
    "model.fit(x_train, y_train, epochs = 10)"
   ]
  },
  {
   "cell_type": "markdown",
   "id": "1d567b2a",
   "metadata": {
    "papermill": {
     "duration": 0.053691,
     "end_time": "2023-01-25T15:26:11.547368",
     "exception": false,
     "start_time": "2023-01-25T15:26:11.493677",
     "status": "completed"
    },
    "tags": []
   },
   "source": [
    "**Evaluating the model**\n",
    "* Evaluating in case there are overfitting, or else the model did not \"learn\" to solve inputs but instead \"memorizes\" the outputs for certain inputs.\n",
    "* Checking the validation loss and accuracy"
   ]
  },
  {
   "cell_type": "code",
   "execution_count": 19,
   "id": "75ddaaaa",
   "metadata": {
    "execution": {
     "iopub.execute_input": "2023-01-25T15:26:11.658788Z",
     "iopub.status.busy": "2023-01-25T15:26:11.658407Z",
     "iopub.status.idle": "2023-01-25T15:26:12.295243Z",
     "shell.execute_reply": "2023-01-25T15:26:12.293538Z"
    },
    "papermill": {
     "duration": 0.696196,
     "end_time": "2023-01-25T15:26:12.297719",
     "exception": false,
     "start_time": "2023-01-25T15:26:11.601523",
     "status": "completed"
    },
    "tags": []
   },
   "outputs": [
    {
     "name": "stdout",
     "output_type": "stream",
     "text": [
      "313/313 [==============================] - 1s 1ms/step - loss: 0.1066 - accuracy: 0.9739\n",
      "0.10655313730239868\n",
      "0.9739000201225281\n"
     ]
    }
   ],
   "source": [
    "val_loss, val_acc = model.evaluate(x_test, y_test)\n",
    "print(val_loss)\n",
    "print(val_acc)"
   ]
  },
  {
   "cell_type": "markdown",
   "id": "f08124aa",
   "metadata": {
    "papermill": {
     "duration": 0.054436,
     "end_time": "2023-01-25T15:26:12.408035",
     "exception": false,
     "start_time": "2023-01-25T15:26:12.353599",
     "status": "completed"
    },
    "tags": []
   },
   "source": [
    "Validation accuracy - training accuracy = ~0.0207\n",
    "validation loss - training loss = ~0.0959 \n",
    "\n",
    "The validation accuracy and loss values should be less than the accuracy and the loss values in the final epoch. \n",
    "If the delta is too high or too low, it will either be overfitting or underfitting. "
   ]
  },
  {
   "cell_type": "markdown",
   "id": "22be566f",
   "metadata": {
    "papermill": {
     "duration": 0.055493,
     "end_time": "2023-01-25T15:26:12.518977",
     "exception": false,
     "start_time": "2023-01-25T15:26:12.463484",
     "status": "completed"
    },
    "tags": []
   },
   "source": [
    "**Saving the model**\n",
    "* Saving the model into a directory path"
   ]
  },
  {
   "cell_type": "code",
   "execution_count": 20,
   "id": "a9b1153e",
   "metadata": {
    "execution": {
     "iopub.execute_input": "2023-01-25T15:26:12.631323Z",
     "iopub.status.busy": "2023-01-25T15:26:12.630684Z",
     "iopub.status.idle": "2023-01-25T15:26:13.423835Z",
     "shell.execute_reply": "2023-01-25T15:26:13.422765Z"
    },
    "papermill": {
     "duration": 0.85226,
     "end_time": "2023-01-25T15:26:13.426280",
     "exception": false,
     "start_time": "2023-01-25T15:26:12.574020",
     "status": "completed"
    },
    "tags": []
   },
   "outputs": [
    {
     "name": "stderr",
     "output_type": "stream",
     "text": [
      "2023-01-25 15:26:12.874928: W tensorflow/python/util/util.cc:348] Sets are not currently considered sequences, but this may change in the future, so consider avoiding using them.\n"
     ]
    }
   ],
   "source": [
    "model.save('/kaggle/working/number_reader.model')"
   ]
  },
  {
   "cell_type": "markdown",
   "id": "e8baecdc",
   "metadata": {
    "papermill": {
     "duration": 0.054018,
     "end_time": "2023-01-25T15:26:13.535406",
     "exception": false,
     "start_time": "2023-01-25T15:26:13.481388",
     "status": "completed"
    },
    "tags": []
   },
   "source": [
    "**Loading the model**\n",
    "* loading the model to be used again"
   ]
  },
  {
   "cell_type": "code",
   "execution_count": 21,
   "id": "f44205b7",
   "metadata": {
    "execution": {
     "iopub.execute_input": "2023-01-25T15:26:13.647102Z",
     "iopub.status.busy": "2023-01-25T15:26:13.646481Z",
     "iopub.status.idle": "2023-01-25T15:26:13.876989Z",
     "shell.execute_reply": "2023-01-25T15:26:13.876071Z"
    },
    "papermill": {
     "duration": 0.288743,
     "end_time": "2023-01-25T15:26:13.879223",
     "exception": false,
     "start_time": "2023-01-25T15:26:13.590480",
     "status": "completed"
    },
    "tags": []
   },
   "outputs": [],
   "source": [
    "new_model = tf.keras.models.load_model('/kaggle/working/number_reader.model')"
   ]
  },
  {
   "cell_type": "markdown",
   "id": "ba55313d",
   "metadata": {
    "papermill": {
     "duration": 0.054575,
     "end_time": "2023-01-25T15:26:13.988553",
     "exception": false,
     "start_time": "2023-01-25T15:26:13.933978",
     "status": "completed"
    },
    "tags": []
   },
   "source": [
    "**Testing the loaded model**\n",
    "* after calling the model, then test it by predicting on the 'test' sample we already made (x_test)"
   ]
  },
  {
   "cell_type": "code",
   "execution_count": 22,
   "id": "c1f0130f",
   "metadata": {
    "execution": {
     "iopub.execute_input": "2023-01-25T15:26:14.100245Z",
     "iopub.status.busy": "2023-01-25T15:26:14.099836Z",
     "iopub.status.idle": "2023-01-25T15:26:14.545131Z",
     "shell.execute_reply": "2023-01-25T15:26:14.544156Z"
    },
    "papermill": {
     "duration": 0.504712,
     "end_time": "2023-01-25T15:26:14.548019",
     "exception": false,
     "start_time": "2023-01-25T15:26:14.043307",
     "status": "completed"
    },
    "tags": []
   },
   "outputs": [
    {
     "name": "stdout",
     "output_type": "stream",
     "text": [
      "[[7.2246479e-13 8.5419302e-12 2.0899810e-10 ... 9.9999464e-01\n",
      "  7.9338305e-13 1.5684322e-13]\n",
      " [3.3604915e-18 7.7007991e-07 9.9999928e-01 ... 6.0642904e-14\n",
      "  3.7962045e-17 8.0342990e-24]\n",
      " [1.3705314e-12 1.0000000e+00 1.0726299e-09 ... 3.9586155e-08\n",
      "  1.1489720e-09 2.0060967e-13]\n",
      " ...\n",
      " [4.6252009e-17 3.9737638e-10 7.4295903e-14 ... 4.3470312e-09\n",
      "  3.2862057e-11 4.8706732e-09]\n",
      " [1.0661064e-09 7.9606840e-13 3.7030485e-14 ... 3.0473251e-09\n",
      "  2.7450882e-03 4.4789798e-14]\n",
      " [1.0607876e-11 2.1966387e-11 7.5653615e-12 ... 1.4908754e-17\n",
      "  6.3212829e-14 3.9001662e-15]]\n"
     ]
    }
   ],
   "source": [
    "predictions = new_model.predict([x_test])\n",
    "print(predictions)"
   ]
  },
  {
   "cell_type": "markdown",
   "id": "9634449a",
   "metadata": {
    "papermill": {
     "duration": 0.055914,
     "end_time": "2023-01-25T15:26:14.661050",
     "exception": false,
     "start_time": "2023-01-25T15:26:14.605136",
     "status": "completed"
    },
    "tags": []
   },
   "source": [
    "Predicting the value of the image in array of 'x_test[0]' "
   ]
  },
  {
   "cell_type": "code",
   "execution_count": 23,
   "id": "209c0faf",
   "metadata": {
    "execution": {
     "iopub.execute_input": "2023-01-25T15:26:14.776109Z",
     "iopub.status.busy": "2023-01-25T15:26:14.775004Z",
     "iopub.status.idle": "2023-01-25T15:26:14.781957Z",
     "shell.execute_reply": "2023-01-25T15:26:14.780476Z"
    },
    "papermill": {
     "duration": 0.066732,
     "end_time": "2023-01-25T15:26:14.783836",
     "exception": false,
     "start_time": "2023-01-25T15:26:14.717104",
     "status": "completed"
    },
    "tags": []
   },
   "outputs": [
    {
     "name": "stdout",
     "output_type": "stream",
     "text": [
      "7\n"
     ]
    }
   ],
   "source": [
    "import numpy as np \n",
    "print(np.argmax(predictions[0]))"
   ]
  },
  {
   "cell_type": "markdown",
   "id": "ce88311f",
   "metadata": {
    "papermill": {
     "duration": 0.054781,
     "end_time": "2023-01-25T15:26:14.893528",
     "exception": false,
     "start_time": "2023-01-25T15:26:14.838747",
     "status": "completed"
    },
    "tags": []
   },
   "source": [
    "See manually if the image in array [0] is really \"7\""
   ]
  },
  {
   "cell_type": "code",
   "execution_count": 24,
   "id": "c91c9711",
   "metadata": {
    "execution": {
     "iopub.execute_input": "2023-01-25T15:26:15.005827Z",
     "iopub.status.busy": "2023-01-25T15:26:15.004442Z",
     "iopub.status.idle": "2023-01-25T15:26:15.129512Z",
     "shell.execute_reply": "2023-01-25T15:26:15.128779Z"
    },
    "papermill": {
     "duration": 0.183984,
     "end_time": "2023-01-25T15:26:15.131731",
     "exception": false,
     "start_time": "2023-01-25T15:26:14.947747",
     "status": "completed"
    },
    "tags": []
   },
   "outputs": [
    {
     "data": {
      "text/plain": [
       "<matplotlib.image.AxesImage at 0x7f6d5436f050>"
      ]
     },
     "execution_count": 24,
     "metadata": {},
     "output_type": "execute_result"
    },
    {
     "data": {
      "image/png": "[encoded data removed]",
      "text/plain": [
       "<Figure size 432x288 with 1 Axes>"
      ]
     },
     "metadata": {
      "needs_background": "light"
     },
     "output_type": "display_data"
    }
   ],
   "source": [
    "plt.imshow(x_test[0])"
   ]
  },
  {
   "cell_type": "code",
   "execution_count": 25,
   "id": "42d97acd",
   "metadata": {
    "execution": {
     "iopub.execute_input": "2023-01-25T15:26:15.248125Z",
     "iopub.status.busy": "2023-01-25T15:26:15.247553Z",
     "iopub.status.idle": "2023-01-25T15:26:15.252738Z",
     "shell.execute_reply": "2023-01-25T15:26:15.251939Z"
    },
    "papermill": {
     "duration": 0.064702,
     "end_time": "2023-01-25T15:26:15.254497",
     "exception": false,
     "start_time": "2023-01-25T15:26:15.189795",
     "status": "completed"
    },
    "tags": []
   },
   "outputs": [
    {
     "data": {
      "text/plain": [
       "'\\nJamal Abo\\n3 years ago\\n17:50 Actually, \\npredictions = new_model.predict([x_test])\\nbroke the program,\\nthen I changed it to\\npredictions = new_model.predict(x_test)\\nAnd it worked Fine :)\\n'"
      ]
     },
     "execution_count": 25,
     "metadata": {},
     "output_type": "execute_result"
    }
   ],
   "source": [
    "\"\"\"\n",
    "Jamal Abo\n",
    "3 years ago\n",
    "17:50 Actually, \n",
    "predictions = new_model.predict([x_test])\n",
    "broke the program,\n",
    "then I changed it to\n",
    "predictions = new_model.predict(x_test)\n",
    "And it worked Fine :)\n",
    "\"\"\""
   ]
  }
 ],
 "metadata": {
  "kernelspec": {
   "display_name": "Python 3",
   "language": "python",
   "name": "python3"
  },
  "language_info": {
   "codemirror_mode": {
    "name": "ipython",
    "version": 3
   },
   "file_extension": ".py",
   "mimetype": "text/x-python",
   "name": "python",
   "nbconvert_exporter": "python",
   "pygments_lexer": "ipython3",
   "version": "3.7.12"
  },
  "papermill": {
   "default_parameters": {},
   "duration": 64.980949,
   "end_time": "2023-01-25T15:26:18.097368",
   "environment_variables": {},
   "exception": null,
   "input_path": "__notebook__.ipynb",
   "output_path": "__notebook__.ipynb",
   "parameters": {},
   "start_time": "2023-01-25T15:25:13.116419",
   "version": "2.3.4"
  }
 },
 "nbformat": 4,
 "nbformat_minor": 5
}
